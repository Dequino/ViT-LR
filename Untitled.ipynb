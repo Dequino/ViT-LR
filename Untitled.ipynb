{
 "cells": [
  {
   "cell_type": "code",
   "execution_count": 1,
   "id": "9f703a01",
   "metadata": {},
   "outputs": [],
   "source": [
    "from data_loader import CORE50\n",
    "import copy\n",
    "import os\n",
    "import json\n",
    "from models.vit import MyViT\n",
    "from utils import *\n",
    "import configparser\n",
    "import argparse\n",
    "from pprint import pprint\n",
    "from torch.utils.tensorboard import SummaryWriter"
   ]
  },
  {
   "cell_type": "code",
   "execution_count": 2,
   "id": "b507eed5",
   "metadata": {},
   "outputs": [],
   "source": [
    "os.environ[\"CUDA_DEVICE_ORDER\"] = \"PCI_BUS_ID\"\n",
    "os.environ[\"CUDA_VISIBLE_DEVICES\"] = \"2\""
   ]
  },
  {
   "cell_type": "code",
   "execution_count": 3,
   "id": "71e95656",
   "metadata": {},
   "outputs": [
    {
     "name": "stdout",
     "output_type": "stream",
     "text": [
      "Loading paths...\n",
      "Loading LUP...\n",
      "Loading labels...\n"
     ]
    }
   ],
   "source": [
    "dataset = CORE50(root='/home/adequino/work/ar1-pytorch/core50', scenario=\"nicv2_79\")\n",
    "preproc = preprocess_imgs"
   ]
  },
  {
   "cell_type": "code",
   "execution_count": 4,
   "id": "25643410",
   "metadata": {},
   "outputs": [],
   "source": [
    "test_x, test_y = dataset.get_test_set()"
   ]
  },
  {
   "cell_type": "code",
   "execution_count": 5,
   "id": "96c99517",
   "metadata": {},
   "outputs": [
    {
     "name": "stdout",
     "output_type": "stream",
     "text": [
      "Resized positional embeddings from torch.Size([1, 577, 768]) to torch.Size([1, 65, 768])\n",
      "Loaded pretrained weights.\n"
     ]
    },
    {
     "data": {
      "text/plain": [
       "MyViT(\n",
       "  (start_features): Sequential(\n",
       "    (0): Conv2d(3, 768, kernel_size=(16, 16), stride=(16, 16))\n",
       "  )\n",
       "  (lat_features): Sequential(\n",
       "    (0): PositionalEmbedding1D()\n",
       "    (1): Block(\n",
       "      (attn): MultiHeadedSelfAttention(\n",
       "        (proj_q): Linear(in_features=768, out_features=768, bias=True)\n",
       "        (proj_k): Linear(in_features=768, out_features=768, bias=True)\n",
       "        (proj_v): Linear(in_features=768, out_features=768, bias=True)\n",
       "        (drop): Dropout(p=0.1, inplace=False)\n",
       "      )\n",
       "      (proj): Linear(in_features=768, out_features=768, bias=True)\n",
       "      (norm1): LayerNorm((768,), eps=1e-06, elementwise_affine=True)\n",
       "      (pwff): PositionWiseFeedForward(\n",
       "        (fc1): Linear(in_features=768, out_features=3072, bias=True)\n",
       "        (fc2): Linear(in_features=3072, out_features=768, bias=True)\n",
       "      )\n",
       "      (norm2): LayerNorm((768,), eps=1e-06, elementwise_affine=True)\n",
       "      (drop): Dropout(p=0.1, inplace=False)\n",
       "    )\n",
       "    (2): Block(\n",
       "      (attn): MultiHeadedSelfAttention(\n",
       "        (proj_q): Linear(in_features=768, out_features=768, bias=True)\n",
       "        (proj_k): Linear(in_features=768, out_features=768, bias=True)\n",
       "        (proj_v): Linear(in_features=768, out_features=768, bias=True)\n",
       "        (drop): Dropout(p=0.1, inplace=False)\n",
       "      )\n",
       "      (proj): Linear(in_features=768, out_features=768, bias=True)\n",
       "      (norm1): LayerNorm((768,), eps=1e-06, elementwise_affine=True)\n",
       "      (pwff): PositionWiseFeedForward(\n",
       "        (fc1): Linear(in_features=768, out_features=3072, bias=True)\n",
       "        (fc2): Linear(in_features=3072, out_features=768, bias=True)\n",
       "      )\n",
       "      (norm2): LayerNorm((768,), eps=1e-06, elementwise_affine=True)\n",
       "      (drop): Dropout(p=0.1, inplace=False)\n",
       "    )\n",
       "    (3): Block(\n",
       "      (attn): MultiHeadedSelfAttention(\n",
       "        (proj_q): Linear(in_features=768, out_features=768, bias=True)\n",
       "        (proj_k): Linear(in_features=768, out_features=768, bias=True)\n",
       "        (proj_v): Linear(in_features=768, out_features=768, bias=True)\n",
       "        (drop): Dropout(p=0.1, inplace=False)\n",
       "      )\n",
       "      (proj): Linear(in_features=768, out_features=768, bias=True)\n",
       "      (norm1): LayerNorm((768,), eps=1e-06, elementwise_affine=True)\n",
       "      (pwff): PositionWiseFeedForward(\n",
       "        (fc1): Linear(in_features=768, out_features=3072, bias=True)\n",
       "        (fc2): Linear(in_features=3072, out_features=768, bias=True)\n",
       "      )\n",
       "      (norm2): LayerNorm((768,), eps=1e-06, elementwise_affine=True)\n",
       "      (drop): Dropout(p=0.1, inplace=False)\n",
       "    )\n",
       "    (4): Block(\n",
       "      (attn): MultiHeadedSelfAttention(\n",
       "        (proj_q): Linear(in_features=768, out_features=768, bias=True)\n",
       "        (proj_k): Linear(in_features=768, out_features=768, bias=True)\n",
       "        (proj_v): Linear(in_features=768, out_features=768, bias=True)\n",
       "        (drop): Dropout(p=0.1, inplace=False)\n",
       "      )\n",
       "      (proj): Linear(in_features=768, out_features=768, bias=True)\n",
       "      (norm1): LayerNorm((768,), eps=1e-06, elementwise_affine=True)\n",
       "      (pwff): PositionWiseFeedForward(\n",
       "        (fc1): Linear(in_features=768, out_features=3072, bias=True)\n",
       "        (fc2): Linear(in_features=3072, out_features=768, bias=True)\n",
       "      )\n",
       "      (norm2): LayerNorm((768,), eps=1e-06, elementwise_affine=True)\n",
       "      (drop): Dropout(p=0.1, inplace=False)\n",
       "    )\n",
       "    (5): Block(\n",
       "      (attn): MultiHeadedSelfAttention(\n",
       "        (proj_q): Linear(in_features=768, out_features=768, bias=True)\n",
       "        (proj_k): Linear(in_features=768, out_features=768, bias=True)\n",
       "        (proj_v): Linear(in_features=768, out_features=768, bias=True)\n",
       "        (drop): Dropout(p=0.1, inplace=False)\n",
       "      )\n",
       "      (proj): Linear(in_features=768, out_features=768, bias=True)\n",
       "      (norm1): LayerNorm((768,), eps=1e-06, elementwise_affine=True)\n",
       "      (pwff): PositionWiseFeedForward(\n",
       "        (fc1): Linear(in_features=768, out_features=3072, bias=True)\n",
       "        (fc2): Linear(in_features=3072, out_features=768, bias=True)\n",
       "      )\n",
       "      (norm2): LayerNorm((768,), eps=1e-06, elementwise_affine=True)\n",
       "      (drop): Dropout(p=0.1, inplace=False)\n",
       "    )\n",
       "    (6): Block(\n",
       "      (attn): MultiHeadedSelfAttention(\n",
       "        (proj_q): Linear(in_features=768, out_features=768, bias=True)\n",
       "        (proj_k): Linear(in_features=768, out_features=768, bias=True)\n",
       "        (proj_v): Linear(in_features=768, out_features=768, bias=True)\n",
       "        (drop): Dropout(p=0.1, inplace=False)\n",
       "      )\n",
       "      (proj): Linear(in_features=768, out_features=768, bias=True)\n",
       "      (norm1): LayerNorm((768,), eps=1e-06, elementwise_affine=True)\n",
       "      (pwff): PositionWiseFeedForward(\n",
       "        (fc1): Linear(in_features=768, out_features=3072, bias=True)\n",
       "        (fc2): Linear(in_features=3072, out_features=768, bias=True)\n",
       "      )\n",
       "      (norm2): LayerNorm((768,), eps=1e-06, elementwise_affine=True)\n",
       "      (drop): Dropout(p=0.1, inplace=False)\n",
       "    )\n",
       "    (7): Block(\n",
       "      (attn): MultiHeadedSelfAttention(\n",
       "        (proj_q): Linear(in_features=768, out_features=768, bias=True)\n",
       "        (proj_k): Linear(in_features=768, out_features=768, bias=True)\n",
       "        (proj_v): Linear(in_features=768, out_features=768, bias=True)\n",
       "        (drop): Dropout(p=0.1, inplace=False)\n",
       "      )\n",
       "      (proj): Linear(in_features=768, out_features=768, bias=True)\n",
       "      (norm1): LayerNorm((768,), eps=1e-06, elementwise_affine=True)\n",
       "      (pwff): PositionWiseFeedForward(\n",
       "        (fc1): Linear(in_features=768, out_features=3072, bias=True)\n",
       "        (fc2): Linear(in_features=3072, out_features=768, bias=True)\n",
       "      )\n",
       "      (norm2): LayerNorm((768,), eps=1e-06, elementwise_affine=True)\n",
       "      (drop): Dropout(p=0.1, inplace=False)\n",
       "    )\n",
       "    (8): Block(\n",
       "      (attn): MultiHeadedSelfAttention(\n",
       "        (proj_q): Linear(in_features=768, out_features=768, bias=True)\n",
       "        (proj_k): Linear(in_features=768, out_features=768, bias=True)\n",
       "        (proj_v): Linear(in_features=768, out_features=768, bias=True)\n",
       "        (drop): Dropout(p=0.1, inplace=False)\n",
       "      )\n",
       "      (proj): Linear(in_features=768, out_features=768, bias=True)\n",
       "      (norm1): LayerNorm((768,), eps=1e-06, elementwise_affine=True)\n",
       "      (pwff): PositionWiseFeedForward(\n",
       "        (fc1): Linear(in_features=768, out_features=3072, bias=True)\n",
       "        (fc2): Linear(in_features=3072, out_features=768, bias=True)\n",
       "      )\n",
       "      (norm2): LayerNorm((768,), eps=1e-06, elementwise_affine=True)\n",
       "      (drop): Dropout(p=0.1, inplace=False)\n",
       "    )\n",
       "    (9): Block(\n",
       "      (attn): MultiHeadedSelfAttention(\n",
       "        (proj_q): Linear(in_features=768, out_features=768, bias=True)\n",
       "        (proj_k): Linear(in_features=768, out_features=768, bias=True)\n",
       "        (proj_v): Linear(in_features=768, out_features=768, bias=True)\n",
       "        (drop): Dropout(p=0.1, inplace=False)\n",
       "      )\n",
       "      (proj): Linear(in_features=768, out_features=768, bias=True)\n",
       "      (norm1): LayerNorm((768,), eps=1e-06, elementwise_affine=True)\n",
       "      (pwff): PositionWiseFeedForward(\n",
       "        (fc1): Linear(in_features=768, out_features=3072, bias=True)\n",
       "        (fc2): Linear(in_features=3072, out_features=768, bias=True)\n",
       "      )\n",
       "      (norm2): LayerNorm((768,), eps=1e-06, elementwise_affine=True)\n",
       "      (drop): Dropout(p=0.1, inplace=False)\n",
       "    )\n",
       "    (10): Block(\n",
       "      (attn): MultiHeadedSelfAttention(\n",
       "        (proj_q): Linear(in_features=768, out_features=768, bias=True)\n",
       "        (proj_k): Linear(in_features=768, out_features=768, bias=True)\n",
       "        (proj_v): Linear(in_features=768, out_features=768, bias=True)\n",
       "        (drop): Dropout(p=0.1, inplace=False)\n",
       "      )\n",
       "      (proj): Linear(in_features=768, out_features=768, bias=True)\n",
       "      (norm1): LayerNorm((768,), eps=1e-06, elementwise_affine=True)\n",
       "      (pwff): PositionWiseFeedForward(\n",
       "        (fc1): Linear(in_features=768, out_features=3072, bias=True)\n",
       "        (fc2): Linear(in_features=3072, out_features=768, bias=True)\n",
       "      )\n",
       "      (norm2): LayerNorm((768,), eps=1e-06, elementwise_affine=True)\n",
       "      (drop): Dropout(p=0.1, inplace=False)\n",
       "    )\n",
       "    (11): Block(\n",
       "      (attn): MultiHeadedSelfAttention(\n",
       "        (proj_q): Linear(in_features=768, out_features=768, bias=True)\n",
       "        (proj_k): Linear(in_features=768, out_features=768, bias=True)\n",
       "        (proj_v): Linear(in_features=768, out_features=768, bias=True)\n",
       "        (drop): Dropout(p=0.1, inplace=False)\n",
       "      )\n",
       "      (proj): Linear(in_features=768, out_features=768, bias=True)\n",
       "      (norm1): LayerNorm((768,), eps=1e-06, elementwise_affine=True)\n",
       "      (pwff): PositionWiseFeedForward(\n",
       "        (fc1): Linear(in_features=768, out_features=3072, bias=True)\n",
       "        (fc2): Linear(in_features=3072, out_features=768, bias=True)\n",
       "      )\n",
       "      (norm2): LayerNorm((768,), eps=1e-06, elementwise_affine=True)\n",
       "      (drop): Dropout(p=0.1, inplace=False)\n",
       "    )\n",
       "    (12): Block(\n",
       "      (attn): MultiHeadedSelfAttention(\n",
       "        (proj_q): Linear(in_features=768, out_features=768, bias=True)\n",
       "        (proj_k): Linear(in_features=768, out_features=768, bias=True)\n",
       "        (proj_v): Linear(in_features=768, out_features=768, bias=True)\n",
       "        (drop): Dropout(p=0.1, inplace=False)\n",
       "      )\n",
       "      (proj): Linear(in_features=768, out_features=768, bias=True)\n",
       "      (norm1): LayerNorm((768,), eps=1e-06, elementwise_affine=True)\n",
       "      (pwff): PositionWiseFeedForward(\n",
       "        (fc1): Linear(in_features=768, out_features=3072, bias=True)\n",
       "        (fc2): Linear(in_features=3072, out_features=768, bias=True)\n",
       "      )\n",
       "      (norm2): LayerNorm((768,), eps=1e-06, elementwise_affine=True)\n",
       "      (drop): Dropout(p=0.1, inplace=False)\n",
       "    )\n",
       "  )\n",
       "  (end_features): Sequential(\n",
       "    (0): LayerNorm((768,), eps=1e-06, elementwise_affine=True)\n",
       "  )\n",
       "  (output): Linear(in_features=768, out_features=50, bias=False)\n",
       ")"
      ]
     },
     "execution_count": 5,
     "metadata": {},
     "output_type": "execute_result"
    }
   ],
   "source": [
    "model = MyViT(pretrained=True)\n",
    "model"
   ]
  },
  {
   "cell_type": "code",
   "execution_count": 6,
   "id": "f1865662",
   "metadata": {},
   "outputs": [
    {
     "data": {
      "text/plain": [
       "<All keys matched successfully>"
      ]
     },
     "execution_count": 6,
     "metadata": {},
     "output_type": "execute_result"
    }
   ],
   "source": [
    "model.load_state_dict(torch.load(\"state_dict_model_clonly.pt\"))"
   ]
  },
  {
   "cell_type": "code",
   "execution_count": 7,
   "id": "f5624500",
   "metadata": {},
   "outputs": [],
   "source": [
    "model.eval()\n",
    "criterion = torch.nn.CrossEntropyLoss()\n",
    "mb_size = 10"
   ]
  },
  {
   "cell_type": "code",
   "execution_count": 8,
   "id": "9aab812b",
   "metadata": {},
   "outputs": [
    {
     "data": {
      "image/png": "[encoded data removed]",
      "text/plain": [
       "<Figure size 1800x1080 with 2 Axes>"
      ]
     },
     "metadata": {
      "needs_background": "light"
     },
     "output_type": "display_data"
    }
   ],
   "source": [
    "ave_loss, acc, accs = confusion_matrix(\n",
    "        model, criterion, mb_size, test_x, test_y, preproc=preproc\n",
    "    )"
   ]
  },
  {
   "cell_type": "code",
   "execution_count": 9,
   "id": "557b605a",
   "metadata": {},
   "outputs": [
    {
     "name": "stdout",
     "output_type": "stream",
     "text": [
      "---------------------------------\n",
      "Accuracy:  0.5984882169853268\n",
      "---------------------------------\n"
     ]
    }
   ],
   "source": [
    "print(\"---------------------------------\")\n",
    "print(\"Accuracy: \", acc)\n",
    "print(\"---------------------------------\")"
   ]
  },
  {
   "cell_type": "code",
   "execution_count": null,
   "id": "8c117401",
   "metadata": {},
   "outputs": [],
   "source": []
  }
 ],
 "metadata": {
  "kernelspec": {
   "display_name": "Python 3",
   "language": "python",
   "name": "python3"
  },
  "language_info": {
   "codemirror_mode": {
    "name": "ipython",
    "version": 3
   },
   "file_extension": ".py",
   "mimetype": "text/x-python",
   "name": "python",
   "nbconvert_exporter": "python",
   "pygments_lexer": "ipython3",
   "version": "3.8.8"
  }
 },
 "nbformat": 4,
 "nbformat_minor": 5
}
